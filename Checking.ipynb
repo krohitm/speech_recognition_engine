{
 "cells": [
  {
   "cell_type": "code",
   "execution_count": 1,
   "metadata": {
    "collapsed": false
   },
   "outputs": [],
   "source": [
    "import wave\n",
    "from scipy.signal import spectrogram\n",
    "import soundfile as sf\n",
    "from matplotlib import pyplot as plt\n",
    "import numpy as np\n",
    "import pandas as pd\n",
    "import math\n",
    "import scipy"
   ]
  },
  {
   "cell_type": "code",
   "execution_count": 2,
   "metadata": {
    "collapsed": false
   },
   "outputs": [],
   "source": [
    "data, samplerate = sf.read(\n",
    "    '/Users/GodSpeed/Documents/Courses/Machine Learning/Project/LibriSpeech/dev-clean/84/121123/84-121123-0004.flac')"
   ]
  },
  {
   "cell_type": "code",
   "execution_count": 8,
   "metadata": {
    "collapsed": false
   },
   "outputs": [
    {
     "name": "stdout",
     "output_type": "stream",
     "text": [
      "70400\n",
      "16000\n",
      "No. of sample frequencies:  161\n",
      "No. of time segmnets: 439\n",
      "Spectrogram length:  161\n",
      "(161, 439)\n"
     ]
    }
   ],
   "source": [
    "print len(data)\n",
    "print samplerate\n",
    "#taking 20ms samples\n",
    "fft_length = 0.001 * 20 * samplerate\n",
    "overlap_length = 0.001 * 10 * samplerate\n",
    "#print window_size\n",
    "f, t, Sxx = spectrogram(data, fs = samplerate, nperseg = fft_length, \n",
    "                        noverlap = overlap_length)\n",
    "print \"No. of sample frequencies: \", len(f) #len(signal.spectrogram(data)[0])\n",
    "print \"No. of time segmnets:\", len(t)\n",
    "print \"Spectrogram length: \", len(Sxx)\n",
    "print Sxx.shape\n",
    "#data is in the form [frequencies[time]]\n",
    "#print type(Sxx)\n",
    "#for i in range(len(t) -  1):\n",
    "#    print t[i+1] - t[i]"
   ]
  },
  {
   "cell_type": "code",
   "execution_count": 9,
   "metadata": {
    "collapsed": false
   },
   "outputs": [
    {
     "data": {
      "image/png": "[encoded data removed]",
      "text/plain": [
       "<matplotlib.figure.Figure at 0x1120a8290>"
      ]
     },
     "metadata": {},
     "output_type": "display_data"
    }
   ],
   "source": [
    "plt.pcolormesh(t,f,Sxx)\n",
    "plt.ylabel('Frequency (Hz)')\n",
    "plt.xlabel('Time (s)')\n",
    "plt.show()\n",
    "#print Sxx[:,313]"
   ]
  },
  {
   "cell_type": "markdown",
   "metadata": {},
   "source": [
    "## Output labels"
   ]
  },
  {
   "cell_type": "code",
   "execution_count": 10,
   "metadata": {
    "collapsed": false
   },
   "outputs": [
    {
     "data": {
      "text/plain": [
       "{0: 'a',\n",
       " 1: 'b',\n",
       " 2: 'c',\n",
       " 3: 'd',\n",
       " 4: 'e',\n",
       " 5: 'f',\n",
       " 6: 'g',\n",
       " 7: 'h',\n",
       " 8: 'i',\n",
       " 9: 'j',\n",
       " 10: 'k',\n",
       " 11: 'l',\n",
       " 12: 'm',\n",
       " 13: 'n',\n",
       " 14: 'o',\n",
       " 15: 'p',\n",
       " 16: 'q',\n",
       " 17: 'r',\n",
       " 18: 's',\n",
       " 19: 't',\n",
       " 20: 'u',\n",
       " 21: 'v',\n",
       " 22: 'w',\n",
       " 23: 'x',\n",
       " 24: 'y',\n",
       " 25: 'z',\n",
       " 26: ' '}"
      ]
     },
     "execution_count": 10,
     "metadata": {},
     "output_type": "execute_result"
    }
   ],
   "source": [
    "output_labels = {}\n",
    "for i in range(26):\n",
    "    output_labels[i] = chr(i+97)\n",
    "output_labels[i+1] = ' '\n",
    "output_labels"
   ]
  },
  {
   "cell_type": "markdown",
   "metadata": {},
   "source": [
    "### Initialize weights\n",
    "Following conventions in SPEECH RECOGNITION WITH DEEP RECURRENT NEURAL NETWORKS"
   ]
  },
  {
   "cell_type": "code",
   "execution_count": 31,
   "metadata": {
    "collapsed": false
   },
   "outputs": [],
   "source": [
    "#set layer sizes\n",
    "layers_sizes = [len(Sxx), 200, len(output_labels)]\n",
    "input_size = len(Sxx)\n",
    "\n",
    "\"\"\"this function is to initialize wi, \n",
    "weights from input layer to first hidden layer,\n",
    "in the form [input layer[hidden layer]]\"\"\"\n",
    "def initialize_wx(layers_sizes):\n",
    "    input_size = layers_sizes[0]\n",
    "    first_hidden_layer_size = layers_sizes[1]\n",
    "    e = np.sqrt(6)/np.sqrt(input_size + first_hidden_layer_size)\n",
    "    wx = np.dot(np.random.rand(input_size, \n",
    "                               first_hidden_layer_size), 2*e) - e\n",
    "    return wx\n",
    "\n",
    "\"\"\"this function is to initialize wh,\n",
    "weights from each hidden layer to next hidden layer\n",
    "creating wh array as [layer number[input layer[output layer]]]\"\"\"\n",
    "def initialize_W_hh_next(layers_sizes):\n",
    "    hidden_layers_sizes = layers_sizes[1:-1]\n",
    "    num_layers = len(hidden_layers_sizes)\n",
    "    #return empty if only one hidden layer\n",
    "    if num_layers == 1:\n",
    "        return\n",
    "    wh = np.zeros((num_layers - 1, max(hidden_layers_sizes),\n",
    "                   max(hidden_layers_sizes[1:len(hidden_layers_sizes)])))\n",
    "    for i in range(num_layers - 1):\n",
    "        e = np.sqrt(6)/np.sqrt(hidden_layers_sizes[i]+hidden_layers_sizes[i+1])\n",
    "        wh[i, 0:hidden_layers_sizes[i], 0:hidden_layers_sizes[i+1]] = np.dot(\n",
    "            np.random.rand((hidden_layers_sizes[i]), hidden_layers_sizes[i+1]),\n",
    "            2*e)-e\n",
    "    return wh\n",
    "\n",
    "\"\"\"this function is to initialize wi, \n",
    "weights from last hidden layer to output layer,\n",
    "in the form [hidden layer[output layer]]\"\"\"\n",
    "def initialize_wo(layers_sizes):\n",
    "    last_hidden_layer_size = layers_sizes[-2]\n",
    "    output_size = layers_sizes[-1]\n",
    "    wo = initialize_wx([layers_sizes[-2],layers_sizes[-1]])\n",
    "    return wo\n",
    "\n",
    "\"\"\"initialize recurrent weights for hidden layer on itself\"\"\"\n",
    "def initialize_wh(layers_sizes):\n",
    "    hidden_layers_sizes = layers_sizes[1:-1]\n",
    "    num_hidden_layers = len(hidden_layers_sizes)\n",
    "    wh = np.zeros((max(hidden_layers_sizes), num_hidden_layers))\n",
    "    #print w_hh_curr.shape\n",
    "    #return\n",
    "    for i in range(num_hidden_layers):\n",
    "        e = np.sqrt(6)/np.sqrt(2*hidden_layers_sizes[0])\n",
    "        wh[0:hidden_layers_sizes[i], i] = np.dot(\n",
    "            np.random.rand(hidden_layers_sizes[i]), 2*e) - e\n",
    "    return wh\n",
    "\n",
    "def initialize_wc(layers_sizes):\n",
    "    wc = initialize_wh(layers_sizes)\n",
    "    return wc\n",
    "\n",
    "\n",
    "#initialize weights from input to 1st hidden layer\n",
    "w_xi = initialize_wx(layers_sizes)\n",
    "\n",
    "#initialize w_hi\n",
    "w_hi = initialize_wh(layers_sizes)\n",
    "\n",
    "#initialize w_ci\n",
    "w_ci = initialize_wc(layers_sizes)\n",
    "\n",
    "#initialize w_xf\n",
    "w_xf = initialize_wx(layers_sizes)\n",
    "\n",
    "#initialize w_hf\n",
    "w_hf = initialize_wh(layers_sizes)\n",
    "\n",
    "#initialize w_cf\n",
    "w_cf = initialize_wc(layers_sizes)\n",
    "\n",
    "#initialize w_xc\n",
    "w_xc = initialize_wx(layers_sizes)\n",
    "\n",
    "#initialize w_hc\n",
    "w_hc = initialize_wh(layers_sizes)\n",
    "\n",
    "#initialize w_xo\n",
    "w_xo = initialize_wx(layers_sizes)\n",
    "\n",
    "#initialize w_ho\n",
    "w_ho = initialize_wh(layers_sizes)\n",
    "\n",
    "#initialize w_co\n",
    "w_co = initialize_wc(layers_sizes)\n",
    "\n",
    "\n",
    "#initialize weights from each hidden layer to next hidden layer\n",
    "wh_next = initialize_W_hh_next(layers_sizes)\n",
    "\n",
    "#initialize weights from last hidden layer to output layer\n",
    "w_hy = initialize_wo(layers_sizes)\n",
    "\n",
    "#initialize recurrent weights to 0\n",
    "#w_hh_curr = initialize_w_hh_curr(layers_sizes)\n",
    "\n",
    "#print w_hi.shape\n",
    "#print w_xi.shape\n",
    "#print wh_next.shape\n",
    "#print w_hy.shape\n",
    "#print w_hh_curr.shape"
   ]
  },
  {
   "cell_type": "markdown",
   "metadata": {},
   "source": [
    "Initialize h(t-1) and c(t-1) to 0"
   ]
  },
  {
   "cell_type": "code",
   "execution_count": 33,
   "metadata": {
    "collapsed": false
   },
   "outputs": [
    {
     "name": "stdout",
     "output_type": "stream",
     "text": [
      "(200, 1)\n",
      "(200, 1)\n"
     ]
    }
   ],
   "source": [
    "def initialize_empty_state(layers_sizes):\n",
    "    hidden_layers_sizes = layers_sizes[1:-1]\n",
    "    num_hidden_layers = len(hidden_layers_sizes)\n",
    "    empty_state = np.zeros((max(hidden_layers_sizes), num_hidden_layers))\n",
    "    return empty_state\n",
    "\n",
    "hidden_state_prev = initialize_empty_state(layers_sizes)\n",
    "cell_state_prev = initialize_empty_state(layers_sizes)\n",
    "print hidden_state_prev.shape\n",
    "print cell_state_prev.shape"
   ]
  },
  {
   "cell_type": "code",
   "execution_count": 34,
   "metadata": {
    "collapsed": false
   },
   "outputs": [
    {
     "name": "stdout",
     "output_type": "stream",
     "text": [
      "(161, 439)\n",
      "439\n",
      "161\n"
     ]
    }
   ],
   "source": [
    "print Sxx.shape\n",
    "print len(t)\n",
    "print len(f)"
   ]
  },
  {
   "cell_type": "markdown",
   "metadata": {},
   "source": [
    "## RNN architecture"
   ]
  },
  {
   "cell_type": "code",
   "execution_count": 38,
   "metadata": {
    "collapsed": false
   },
   "outputs": [
    {
     "ename": "NameError",
     "evalue": "name 'reshape' is not defined",
     "output_type": "error",
     "traceback": [
      "\u001b[0;31m---------------------------------------------------------------------------\u001b[0m",
      "\u001b[0;31mNameError\u001b[0m                                 Traceback (most recent call last)",
      "\u001b[0;32m<ipython-input-38-b002a58f4d0c>\u001b[0m in \u001b[0;36m<module>\u001b[0;34m()\u001b[0m\n\u001b[1;32m      8\u001b[0m \u001b[0;32mfor\u001b[0m \u001b[0mi\u001b[0m \u001b[0;32min\u001b[0m \u001b[0mrange\u001b[0m\u001b[0;34m(\u001b[0m\u001b[0msample_size\u001b[0m\u001b[0;34m)\u001b[0m\u001b[0;34m:\u001b[0m\u001b[0;34m\u001b[0m\u001b[0m\n\u001b[1;32m      9\u001b[0m     \u001b[0;31m#print w_xi.shape\u001b[0m\u001b[0;34m\u001b[0m\u001b[0;34m\u001b[0m\u001b[0m\n\u001b[0;32m---> 10\u001b[0;31m     \u001b[0;32mprint\u001b[0m \u001b[0mreshape\u001b[0m\u001b[0;34m(\u001b[0m\u001b[0mSxx\u001b[0m\u001b[0;34m[\u001b[0m\u001b[0;34m:\u001b[0m\u001b[0;34m,\u001b[0m\u001b[0mi\u001b[0m\u001b[0;34m]\u001b[0m\u001b[0;34m,\u001b[0m\u001b[0;36m1\u001b[0m\u001b[0;34m)\u001b[0m\u001b[0;34m.\u001b[0m\u001b[0mshape\u001b[0m\u001b[0;34m\u001b[0m\u001b[0m\n\u001b[0m\u001b[1;32m     11\u001b[0m     \u001b[0;31m#input_gate = sigmoid(w_xi*Sxx[:,i] + w_hi*hidden_state_prev + w_ci * cell_state_prev + 1)\u001b[0m\u001b[0;34m\u001b[0m\u001b[0;34m\u001b[0m\u001b[0m\n",
      "\u001b[0;31mNameError\u001b[0m: name 'reshape' is not defined"
     ]
    }
   ],
   "source": [
    "def sigmoid(z):\n",
    "    a = 1.0/(1.0+np.exp((-z)))\n",
    "    return a\n",
    "\n",
    "sample_size = len(t)\n",
    "frequencies = f\n",
    "input = Sxx\n",
    "for i in range(sample_size):\n",
    "    #print w_xi.shape\n",
    "    #print Sxx[:,i].shape\n",
    "    #input_gate = sigmoid(w_xi*Sxx[:,i] + w_hi*hidden_state_prev + w_ci * cell_state_prev + 1)"
   ]
  },
  {
   "cell_type": "code",
   "execution_count": null,
   "metadata": {
    "collapsed": true
   },
   "outputs": [],
   "source": [
    "def sigmoid(z):\n",
    "\n",
    "    # Local Variables: a, z\n",
    "    # Function calls: exp, sigmoid\n",
    "    a = 1.0/(1.0+np.exp((-z)))\n",
    "    return a\n",
    "\n",
    "def SGD_training(training_data, training_labels, validation_data, \n",
    "                 validation_labels, testing_data, testing_labels, LS, input_theta, delta_weight_prev, epochs):\n",
    "    \n",
    "    for i in range(training.size[1]):\n",
    "        input_gate = sigmoid(input_that.transpose)\n",
    "\n",
    "    # Local Variables: validation_error, samples_num, epochs, patience, validation_labels, error_min_index, RP, training_labels, all_layers_out, epoch, LS, theta, testing_images, accuracy, D, error_min_patience, learning_rate, error, batch_size, delta_weight_prev, Y, NL, a, validation_images, training_images, sample_set, i, break_point, num_of_labels, l, theta_best, testing_labels, training_error\n",
    "    # Function calls: gca, rand, set, legend, num2str, figure, fwd_propagation, predict, title, sum, bwd_propagation, plot, ceil, forward_prop, ylabel, zeros, SGD_training, xlabel, Inf, validate, size\n",
    "    #this function trains the neural network\n",
    "    samples_num = training_data.size()\n",
    "    NL = matcompat.size(LS, 2.)\n",
    "    #%num of layers including input and output\n",
    "    learning_rate = 0.1\n",
    "    RP = 0.8\n",
    "    #%regularization parameter\n",
    "    #%Y = zeros(samples_num, LS(NL));\n",
    "    patience = 150.\n",
    "    #%number of epochs to skip for early stopping\n",
    "    error_min_patience = Inf\n",
    "    #%window_error = 0;   %error in the window to check improvement in validation\n",
    "    num_of_labels = 10.\n",
    "    D = np.zeros(num_of_labels, samples_num)\n",
    "    #%D has desired response such that for any label, the bit for its index is 1\n",
    "    #%in 10 digit binary vector D(sample_number,:) for that sample\n",
    "    for l in np.arange(1., (num_of_labels-1.)+1):\n",
    "        D[int(l)-1,:] = training_labels == l\n",
    "        \n",
    "    D[9,:] = training_labels == 0.\n",
    "    #%epochs = 150;\n",
    "    #%e = zeros(epochs,1);\n",
    "    batch_size = 100.\n",
    "    sample_set = np.zeros(batch_size, 1.)\n",
    "    training_error = np.zeros(epochs, 1.)\n",
    "    #%mean_training_error = zeros(epochs, 1);\n",
    "    validation_error = np.zeros(epochs, 1.)\n",
    "    #%mean_validation_error = zeros(epochs, 1);\n",
    "    accuracy = np.zeros(epochs, 1.)\n",
    "    for epoch in np.arange(1., (epochs)+1):\n",
    "        for i in np.arange(1., (batch_size)+1):\n",
    "            sample_set[int(i)-1,0] = np.ceil(np.dot(np.random.rand(1.), matcompat.size(training_images, 1.)))\n",
    "            a = fwd_propagation(training_images[int(sample_set[int(i)-1])-1,:], theta, NL, LS).T\n",
    "            #%changed a to form (units_in_layer by layer_number)\n",
    "            [theta, delta_weight_prev] = bwd_propagation(a, theta, delta_weight_prev, D[:,int(sample_set[int(i)-1])-1], learning_rate, RP, NL, LS)\n",
    "            \n",
    "        #%error = 0;\n",
    "        all_layers_out = forward_prop(training_images[int(sample_set)-1,:], theta, NL, LS)\n",
    "        Y = all_layers_out[0:LS[int(NL)-1],:,int(NL)-1]\n",
    "        error = (Y-D[:,int(sample_set)-1])**2.\n",
    "        training_error[int(epoch)-1,0] = matdiv(np.sum(np.sum(error, 1.)), batch_size)\n",
    "        validation_error[int(epoch)-1,0] = validate(theta, validation_images, validation_labels, NL, LS)\n",
    "        accuracy[int(epoch)-1,0] = predict(theta, testing_images, testing_labels, NL, LS)\n",
    "        if epoch >= patience:\n",
    "            if validation_error[int(epoch)-1,0]<=error_min_patience:\n",
    "                error_min_patience = validation_error[int(epoch)-1,0]\n",
    "                error_min_index = epoch\n",
    "                theta_best = theta\n",
    "            \n",
    "            \n",
    "            if epoch > error_min_index+20.:\n",
    "                #%taking window of 10 epochs\n",
    "            break_point = epoch\n",
    "            break\n",
    "            #%window_error = sum(validation_error(error_min_index:epoch));\n",
    "            #%else\n",
    "            #%   window_mean = \n",
    "            \n",
    "        \n",
    "        \n",
    "        break_point = epochs\n",
    "        \n",
    "    training_error = training_error[0:break_point]\n",
    "    validation_error = validation_error[0:break_point]\n",
    "    accuracy = accuracy[0:break_point]\n",
    "    plt.figure()\n",
    "    plt.plot(np.arange(1., (break_point)+1), validation_error, 'LineWidth', 1.5)\n",
    "    plt.xlabel('Epochs')\n",
    "    plt.ylabel('Mean Square Error')\n",
    "    plt.legend('Training Error', 'Validation Error')\n",
    "    plt.title(np.array(np.hstack(('Performance for a batch size of ', num2str(batch_size)))))\n",
    "    set(plt.gca, 'fontsize', 23.)\n",
    "    plt.figure()\n",
    "    plt.xlabel('Epochs')\n",
    "    plt.ylabel('Accuracy %')\n",
    "    plt.title(np.array(np.hstack(('Accuracy percentage curve for batch size of ', num2str(batch_size)))))\n",
    "    set(plt.gca, 'fontsize', 23.)\n",
    "    return [training_error, validation_error, accuracy, theta_best, break_point]"
   ]
  }
 ],
 "metadata": {
  "anaconda-cloud": {},
  "kernelspec": {
   "display_name": "Python [scorpion]",
   "language": "python",
   "name": "Python [scorpion]"
  },
  "language_info": {
   "codemirror_mode": {
    "name": "ipython",
    "version": 2
   },
   "file_extension": ".py",
   "mimetype": "text/x-python",
   "name": "python",
   "nbconvert_exporter": "python",
   "pygments_lexer": "ipython2",
   "version": "2.7.12"
  }
 },
 "nbformat": 4,
 "nbformat_minor": 0
}
